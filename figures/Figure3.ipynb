version https://git-lfs.github.com/spec/v1
oid sha256:0fc332a36efeee32312d33d419abcc26bd3ea16d02e8251ddbe7ec79e375910d
size 570974
